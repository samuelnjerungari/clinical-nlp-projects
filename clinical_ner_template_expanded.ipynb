{
 "cells": [
  {
   "cell_type": "code",
   "execution_count": 1,
   "id": "d460da02-c13b-4b0f-842a-1df859b96a73",
   "metadata": {},
   "outputs": [],
   "source": [
    "# Step 1: Imports and setup\n",
    "import spacy\n",
    "from spacy.pipeline import EntityRuler\n",
    "from spacy.tokens import Span\n",
    "from spacy.language import Language\n",
    "import pandas as pd\n",
    "import csv\n"
   ]
  },
  {
   "cell_type": "code",
   "execution_count": 2,
   "id": "1a443947-8000-4f79-8569-49da685f8cbd",
   "metadata": {},
   "outputs": [
    {
     "name": "stdout",
     "output_type": "stream",
     "text": [
      "✅ Blank English pipeline and EntityRuler created.\n"
     ]
    }
   ],
   "source": [
    "# Step 2: Initialize spaCy pipeline\n",
    "nlp = spacy.blank(\"en\")\n",
    "ruler = nlp.add_pipe(\"entity_ruler\")\n",
    "\n",
    "print(\"✅ Blank English pipeline and EntityRuler created.\")\n"
   ]
  },
  {
   "cell_type": "code",
   "execution_count": 3,
   "id": "4bc4f9f8-2f01-4f65-9bd1-e4677f87eaeb",
   "metadata": {},
   "outputs": [
    {
     "name": "stdout",
     "output_type": "stream",
     "text": [
      "✅ Clinical patterns added to EntityRuler.\n"
     ]
    }
   ],
   "source": [
    "# Step 3: Define and add clinical NER patterns\n",
    "patterns = [\n",
    "    {\"label\": \"MEDICATION\", \"pattern\": \"metformin\"},\n",
    "    {\"label\": \"MEDICATION\", \"pattern\": \"lisinopril\"},\n",
    "    {\"label\": \"MEDICATION\", \"pattern\": \"ibuprofen\"},\n",
    "    {\"label\": \"DOSAGE\", \"pattern\": [{\"LIKE_NUM\": True}, {\"LOWER\": {\"IN\": [\"mg\", \"ml\"]}}]},\n",
    "    {\"label\": \"CONDITION\", \"pattern\": \"diabetes\"},\n",
    "    {\"label\": \"CONDITION\", \"pattern\": \"hypertension\"},\n",
    "    {\"label\": \"SYMPTOM\", \"pattern\": \"chest pain\"},\n",
    "    {\"label\": \"SYMPTOM\", \"pattern\": \"headache\"},\n",
    "    {\"label\": \"PROCEDURE\", \"pattern\": \"blood test\"},\n",
    "    {\"label\": \"PROCEDURE\", \"pattern\": \"MRI\"},\n",
    "    {\"label\": \"PROCEDURE\", \"pattern\": \"x-ray\"},\n",
    "]\n",
    "ruler.add_patterns(patterns)\n",
    "\n",
    "print(\"✅ Clinical patterns added to EntityRuler.\")\n"
   ]
  },
  {
   "cell_type": "code",
   "execution_count": 4,
   "id": "f17a6208-cf99-4f13-9de0-bee8fdc9d6ea",
   "metadata": {},
   "outputs": [
    {
     "name": "stdout",
     "output_type": "stream",
     "text": [
      "🧠 Negation detector added to pipeline.\n"
     ]
    }
   ],
   "source": [
    "# Step 4: Custom pipeline component to simulate negation detection\n",
    "\n",
    "# Avoid error if re-run\n",
    "if not Span.has_extension(\"is_negated\"):\n",
    "    Span.set_extension(\"is_negated\", default=False)\n",
    "\n",
    "@Language.component(\"negation_detector\")\n",
    "def detect_negation(doc):\n",
    "    negation_terms = {\"no\", \"not\", \"without\", \"denies\"}\n",
    "    for i, token in enumerate(doc):\n",
    "        if token.text.lower() in negation_terms:\n",
    "            for ent in doc.ents:\n",
    "                if token.i < ent.start:\n",
    "                    ent._.is_negated = True\n",
    "    return doc\n",
    "\n",
    "# Add to pipeline\n",
    "nlp.add_pipe(\"negation_detector\", after=\"entity_ruler\")\n",
    "\n",
    "print(\"🧠 Negation detector added to pipeline.\")\n"
   ]
  },
  {
   "cell_type": "code",
   "execution_count": 5,
   "id": "03d5da66-049b-4446-9201-ce5acc54aa5b",
   "metadata": {},
   "outputs": [],
   "source": [
    "import re\n",
    "\n",
    "# Define section header patterns\n",
    "section_patterns = {\n",
    "    \"HPI\": r\"history of present illness[:\\-]\",\n",
    "    \"MEDICATIONS\": r\"medications[:\\-]\",\n",
    "    \"ALLERGIES\": r\"allergies[:\\-]\",\n",
    "    \"ASSESSMENT\": r\"assessment[:\\-]\",\n",
    "    \"PLAN\": r\"plan[:\\-]\",\n",
    "    \"PROCEDURES\": r\"procedures[:\\-]\",\n",
    "    \"DIAGNOSIS\": r\"diagnosis[:\\-]\",\n",
    "}\n",
    "\n",
    "def detect_section(text):\n",
    "    \"\"\"\n",
    "    Assigns section headers to each sentence based on simple regex matches.\n",
    "    \"\"\"\n",
    "    sections = []\n",
    "    current_section = \"UNKNOWN\"\n",
    "    for line in text.split(\"\\n\"):\n",
    "        stripped = line.strip().lower()\n",
    "        for label, pattern in section_patterns.items():\n",
    "            if re.match(pattern, stripped):\n",
    "                current_section = label\n",
    "                break\n",
    "        sections.append((line.strip(), current_section))\n",
    "    return sections\n"
   ]
  },
  {
   "cell_type": "code",
   "execution_count": 6,
   "id": "8d967405-5a59-4c6f-b5a7-431250e8f15e",
   "metadata": {},
   "outputs": [
    {
     "name": "stdout",
     "output_type": "stream",
     "text": [
      "\n",
      "🔎 Text: Patient is prescribed metformin 500 mg for diabetes.\n",
      "  → ENTITY: metformin            | LABEL: MEDICATION   | Negation: affirmed\n",
      "  → ENTITY: 500 mg               | LABEL: DOSAGE       | Negation: affirmed\n",
      "  → ENTITY: diabetes             | LABEL: CONDITION    | Negation: affirmed\n",
      "\n",
      "🔎 Text: She complains of chest pain and is scheduled for a blood test.\n",
      "  → ENTITY: chest pain           | LABEL: SYMPTOM      | Negation: affirmed\n",
      "  → ENTITY: blood test           | LABEL: PROCEDURE    | Negation: affirmed\n",
      "\n",
      "🔎 Text: MRI was recommended due to persistent headache.\n",
      "  → ENTITY: MRI                  | LABEL: PROCEDURE    | Negation: affirmed\n",
      "  → ENTITY: headache             | LABEL: SYMPTOM      | Negation: affirmed\n",
      "\n",
      "🔎 Text: Lisinopril 10 mg is taken daily to manage hypertension.\n",
      "  → ENTITY: 10 mg                | LABEL: DOSAGE       | Negation: affirmed\n",
      "  → ENTITY: hypertension         | LABEL: CONDITION    | Negation: affirmed\n",
      "\n",
      "🔎 Text: No signs of headache after taking ibuprofen.\n",
      "  → ENTITY: headache             | LABEL: SYMPTOM      | Negation: NEGATED\n",
      "  → ENTITY: ibuprofen            | LABEL: MEDICATION   | Negation: NEGATED\n"
     ]
    }
   ],
   "source": [
    "# Step 5: Sample clinical text\n",
    "texts = [\n",
    "    \"Patient is prescribed metformin 500 mg for diabetes.\",\n",
    "    \"She complains of chest pain and is scheduled for a blood test.\",\n",
    "    \"MRI was recommended due to persistent headache.\",\n",
    "    \"Lisinopril 10 mg is taken daily to manage hypertension.\",\n",
    "    \"No signs of headache after taking ibuprofen.\"\n",
    "]\n",
    "\n",
    "results = []\n",
    "\n",
    "for text in texts:\n",
    "    doc = nlp(text)\n",
    "    print(f\"\\n🔎 Text: {text}\")\n",
    "    for ent in doc.ents:\n",
    "        neg_status = \"NEGATED\" if ent._.is_negated else \"affirmed\"\n",
    "        print(f\"  → ENTITY: {ent.text:<20} | LABEL: {ent.label_:<12} | Negation: {neg_status}\")\n",
    "        results.append((text, ent.text, ent.label_, neg_status))\n"
   ]
  },
  {
   "cell_type": "code",
   "execution_count": 7,
   "id": "e26f6560-b8ee-4477-8fca-b6cb10d737e0",
   "metadata": {},
   "outputs": [
    {
     "name": "stdout",
     "output_type": "stream",
     "text": [
      "\n",
      "📁 Results saved to: clinical_ner_results_expanded.csv\n"
     ]
    },
    {
     "data": {
      "text/html": [
       "<div>\n",
       "<style scoped>\n",
       "    .dataframe tbody tr th:only-of-type {\n",
       "        vertical-align: middle;\n",
       "    }\n",
       "\n",
       "    .dataframe tbody tr th {\n",
       "        vertical-align: top;\n",
       "    }\n",
       "\n",
       "    .dataframe thead th {\n",
       "        text-align: right;\n",
       "    }\n",
       "</style>\n",
       "<table border=\"1\" class=\"dataframe\">\n",
       "  <thead>\n",
       "    <tr style=\"text-align: right;\">\n",
       "      <th></th>\n",
       "      <th>Original Text</th>\n",
       "      <th>Entity</th>\n",
       "      <th>Label</th>\n",
       "      <th>Negation Status</th>\n",
       "    </tr>\n",
       "  </thead>\n",
       "  <tbody>\n",
       "    <tr>\n",
       "      <th>0</th>\n",
       "      <td>Patient is prescribed metformin 500 mg for dia...</td>\n",
       "      <td>metformin</td>\n",
       "      <td>MEDICATION</td>\n",
       "      <td>affirmed</td>\n",
       "    </tr>\n",
       "    <tr>\n",
       "      <th>1</th>\n",
       "      <td>Patient is prescribed metformin 500 mg for dia...</td>\n",
       "      <td>500 mg</td>\n",
       "      <td>DOSAGE</td>\n",
       "      <td>affirmed</td>\n",
       "    </tr>\n",
       "    <tr>\n",
       "      <th>2</th>\n",
       "      <td>Patient is prescribed metformin 500 mg for dia...</td>\n",
       "      <td>diabetes</td>\n",
       "      <td>CONDITION</td>\n",
       "      <td>affirmed</td>\n",
       "    </tr>\n",
       "    <tr>\n",
       "      <th>3</th>\n",
       "      <td>She complains of chest pain and is scheduled f...</td>\n",
       "      <td>chest pain</td>\n",
       "      <td>SYMPTOM</td>\n",
       "      <td>affirmed</td>\n",
       "    </tr>\n",
       "    <tr>\n",
       "      <th>4</th>\n",
       "      <td>She complains of chest pain and is scheduled f...</td>\n",
       "      <td>blood test</td>\n",
       "      <td>PROCEDURE</td>\n",
       "      <td>affirmed</td>\n",
       "    </tr>\n",
       "  </tbody>\n",
       "</table>\n",
       "</div>"
      ],
      "text/plain": [
       "                                       Original Text      Entity       Label  \\\n",
       "0  Patient is prescribed metformin 500 mg for dia...   metformin  MEDICATION   \n",
       "1  Patient is prescribed metformin 500 mg for dia...      500 mg      DOSAGE   \n",
       "2  Patient is prescribed metformin 500 mg for dia...    diabetes   CONDITION   \n",
       "3  She complains of chest pain and is scheduled f...  chest pain     SYMPTOM   \n",
       "4  She complains of chest pain and is scheduled f...  blood test   PROCEDURE   \n",
       "\n",
       "  Negation Status  \n",
       "0        affirmed  \n",
       "1        affirmed  \n",
       "2        affirmed  \n",
       "3        affirmed  \n",
       "4        affirmed  "
      ]
     },
     "execution_count": 7,
     "metadata": {},
     "output_type": "execute_result"
    }
   ],
   "source": [
    "# Step 6: Export results\n",
    "csv_path = \"clinical_ner_results_expanded.csv\"\n",
    "\n",
    "with open(csv_path, \"w\", newline=\"\", encoding=\"utf-8\") as f:\n",
    "    writer = csv.writer(f)\n",
    "    writer.writerow([\"Original Text\", \"Entity\", \"Label\", \"Negation Status\"])\n",
    "    writer.writerows(results)\n",
    "\n",
    "print(f\"\\n📁 Results saved to: {csv_path}\")\n",
    "\n",
    "# Load and display\n",
    "df = pd.read_csv(csv_path)\n",
    "df.head()\n"
   ]
  },
  {
   "cell_type": "code",
   "execution_count": 8,
   "id": "6dfc24ff-4a21-43f7-a1d3-7136505d3c74",
   "metadata": {},
   "outputs": [
    {
     "name": "stdout",
     "output_type": "stream",
     "text": [
      "[UNKNOWN] \n",
      "[HPI] History of Present Illness:\n",
      "[HPI] Patient is prescribed metformin 500 mg for diabetes.\n",
      "[HPI] \n",
      "[MEDICATIONS] Medications:\n",
      "[MEDICATIONS] Lisinopril 10 mg daily\n",
      "[MEDICATIONS] \n",
      "[ASSESSMENT] Assessment:\n",
      "[ASSESSMENT] Hypertension under control\n",
      "[ASSESSMENT] \n",
      "[PLAN] Plan:\n",
      "[PLAN] Schedule a blood test and MRI\n",
      "[PLAN] \n"
     ]
    }
   ],
   "source": [
    "# Step 6: Test section detection on a sample clinical note\n",
    "sample_note = \"\"\"\n",
    "History of Present Illness:\n",
    "Patient is prescribed metformin 500 mg for diabetes.\n",
    "\n",
    "Medications:\n",
    "Lisinopril 10 mg daily\n",
    "\n",
    "Assessment:\n",
    "Hypertension under control\n",
    "\n",
    "Plan:\n",
    "Schedule a blood test and MRI\n",
    "\"\"\"\n",
    "\n",
    "# Run section detection on each line\n",
    "sectioned_lines = detect_section(sample_note)\n",
    "\n",
    "# Print each line with its identified section\n",
    "for line, section in sectioned_lines:\n",
    "    print(f\"[{section}] {line}\")\n"
   ]
  },
  {
   "cell_type": "code",
   "execution_count": 9,
   "id": "7c9b5c00-e744-4b9c-9757-1c0a4ab2fe6c",
   "metadata": {},
   "outputs": [
    {
     "name": "stdout",
     "output_type": "stream",
     "text": [
      "📄 Final results saved to: clinical_ner_with_negation_and_section.csv\n"
     ]
    }
   ],
   "source": [
    "# Step 7: Combine NER, negation, and section detection\n",
    "combined_results = []\n",
    "\n",
    "for text in texts:\n",
    "    doc = nlp(text)\n",
    "    sections = detect_section(text)\n",
    "\n",
    "    for ent in doc.ents:\n",
    "        matched_section = \"UNKNOWN\"\n",
    "        for line, section in sections:\n",
    "            start_index = text.find(line)\n",
    "            if start_index != -1:\n",
    "                end_index = start_index + len(line)\n",
    "                if start_index <= ent.start_char < end_index:\n",
    "                    matched_section = section\n",
    "                    break\n",
    "        combined_results.append((text, ent.text, ent.label_, ent._.is_negated, matched_section))\n",
    "\n",
    "# Save to updated CSV\n",
    "csv_path_combined = \"clinical_ner_with_negation_and_section.csv\"\n",
    "with open(csv_path_combined, \"w\", newline=\"\", encoding=\"utf-8\") as f:\n",
    "    writer = csv.writer(f)\n",
    "    writer.writerow([\"Original Text\", \"Entity\", \"Label\", \"Negated\", \"Section\"])\n",
    "    writer.writerows(combined_results)\n",
    "\n",
    "print(f\"📄 Final results saved to: {csv_path_combined}\")\n"
   ]
  },
  {
   "cell_type": "code",
   "execution_count": 10,
   "id": "989489ed-d76e-4318-b298-38d081a5084f",
   "metadata": {},
   "outputs": [
    {
     "data": {
      "text/html": [
       "<div>\n",
       "<style scoped>\n",
       "    .dataframe tbody tr th:only-of-type {\n",
       "        vertical-align: middle;\n",
       "    }\n",
       "\n",
       "    .dataframe tbody tr th {\n",
       "        vertical-align: top;\n",
       "    }\n",
       "\n",
       "    .dataframe thead th {\n",
       "        text-align: right;\n",
       "    }\n",
       "</style>\n",
       "<table border=\"1\" class=\"dataframe\">\n",
       "  <thead>\n",
       "    <tr style=\"text-align: right;\">\n",
       "      <th></th>\n",
       "      <th>Original Text</th>\n",
       "      <th>Entity</th>\n",
       "      <th>Label</th>\n",
       "      <th>Negated</th>\n",
       "      <th>Section</th>\n",
       "    </tr>\n",
       "  </thead>\n",
       "  <tbody>\n",
       "    <tr>\n",
       "      <th>0</th>\n",
       "      <td>Patient is prescribed metformin 500 mg for dia...</td>\n",
       "      <td>metformin</td>\n",
       "      <td>MEDICATION</td>\n",
       "      <td>False</td>\n",
       "      <td>UNKNOWN</td>\n",
       "    </tr>\n",
       "    <tr>\n",
       "      <th>1</th>\n",
       "      <td>Patient is prescribed metformin 500 mg for dia...</td>\n",
       "      <td>500 mg</td>\n",
       "      <td>DOSAGE</td>\n",
       "      <td>False</td>\n",
       "      <td>UNKNOWN</td>\n",
       "    </tr>\n",
       "    <tr>\n",
       "      <th>2</th>\n",
       "      <td>Patient is prescribed metformin 500 mg for dia...</td>\n",
       "      <td>diabetes</td>\n",
       "      <td>CONDITION</td>\n",
       "      <td>False</td>\n",
       "      <td>UNKNOWN</td>\n",
       "    </tr>\n",
       "    <tr>\n",
       "      <th>3</th>\n",
       "      <td>She complains of chest pain and is scheduled f...</td>\n",
       "      <td>chest pain</td>\n",
       "      <td>SYMPTOM</td>\n",
       "      <td>False</td>\n",
       "      <td>UNKNOWN</td>\n",
       "    </tr>\n",
       "    <tr>\n",
       "      <th>4</th>\n",
       "      <td>She complains of chest pain and is scheduled f...</td>\n",
       "      <td>blood test</td>\n",
       "      <td>PROCEDURE</td>\n",
       "      <td>False</td>\n",
       "      <td>UNKNOWN</td>\n",
       "    </tr>\n",
       "  </tbody>\n",
       "</table>\n",
       "</div>"
      ],
      "text/plain": [
       "                                       Original Text      Entity       Label  \\\n",
       "0  Patient is prescribed metformin 500 mg for dia...   metformin  MEDICATION   \n",
       "1  Patient is prescribed metformin 500 mg for dia...      500 mg      DOSAGE   \n",
       "2  Patient is prescribed metformin 500 mg for dia...    diabetes   CONDITION   \n",
       "3  She complains of chest pain and is scheduled f...  chest pain     SYMPTOM   \n",
       "4  She complains of chest pain and is scheduled f...  blood test   PROCEDURE   \n",
       "\n",
       "   Negated  Section  \n",
       "0    False  UNKNOWN  \n",
       "1    False  UNKNOWN  \n",
       "2    False  UNKNOWN  \n",
       "3    False  UNKNOWN  \n",
       "4    False  UNKNOWN  "
      ]
     },
     "execution_count": 10,
     "metadata": {},
     "output_type": "execute_result"
    }
   ],
   "source": [
    "# View results using pandas\n",
    "df_combined = pd.read_csv(\"clinical_ner_with_negation_and_section.csv\")\n",
    "df_combined.head()\n"
   ]
  },
  {
   "cell_type": "code",
   "execution_count": 12,
   "id": "ed6cae20-c7f9-47db-a290-fd166006d7a4",
   "metadata": {},
   "outputs": [
    {
     "name": "stdout",
     "output_type": "stream",
     "text": [
      "🖼️ Highlighted Clinical Entities (with negation tags):\n"
     ]
    },
    {
     "data": {
      "text/html": [
       "<span class=\"tex2jax_ignore\"><h2 style=\"margin: 0\">Negation-Aware Entity Visualizer</h2>\n",
       "\n",
       "<div class=\"entities\" style=\"line-height: 2.5; direction: ltr\">Patient is prescribed \n",
       "<mark class=\"entity\" style=\"background: #a6cee3; padding: 0.45em 0.6em; margin: 0 0.25em; line-height: 1; border-radius: 0.35em;\">\n",
       "    metformin\n",
       "    <span style=\"font-size: 0.8em; font-weight: bold; line-height: 1; border-radius: 0.35em; vertical-align: middle; margin-left: 0.5rem\">MEDICATION</span>\n",
       "</mark>\n",
       " \n",
       "<mark class=\"entity\" style=\"background: #1f78b4; padding: 0.45em 0.6em; margin: 0 0.25em; line-height: 1; border-radius: 0.35em;\">\n",
       "    500 mg\n",
       "    <span style=\"font-size: 0.8em; font-weight: bold; line-height: 1; border-radius: 0.35em; vertical-align: middle; margin-left: 0.5rem\">DOSAGE</span>\n",
       "</mark>\n",
       " for \n",
       "<mark class=\"entity\" style=\"background: #b2df8a; padding: 0.45em 0.6em; margin: 0 0.25em; line-height: 1; border-radius: 0.35em;\">\n",
       "    diabetes\n",
       "    <span style=\"font-size: 0.8em; font-weight: bold; line-height: 1; border-radius: 0.35em; vertical-align: middle; margin-left: 0.5rem\">CONDITION</span>\n",
       "</mark>\n",
       ".</div></span>"
      ],
      "text/plain": [
       "<IPython.core.display.HTML object>"
      ]
     },
     "metadata": {},
     "output_type": "display_data"
    },
    {
     "data": {
      "text/plain": [
       "<IPython.core.display.HTML object>"
      ]
     },
     "metadata": {},
     "output_type": "display_data"
    },
    {
     "data": {
      "text/html": [
       "<span class=\"tex2jax_ignore\"><h2 style=\"margin: 0\">Negation-Aware Entity Visualizer</h2>\n",
       "\n",
       "<div class=\"entities\" style=\"line-height: 2.5; direction: ltr\">She complains of \n",
       "<mark class=\"entity\" style=\"background: #33a02c; padding: 0.45em 0.6em; margin: 0 0.25em; line-height: 1; border-radius: 0.35em;\">\n",
       "    chest pain\n",
       "    <span style=\"font-size: 0.8em; font-weight: bold; line-height: 1; border-radius: 0.35em; vertical-align: middle; margin-left: 0.5rem\">SYMPTOM</span>\n",
       "</mark>\n",
       " and is scheduled for a \n",
       "<mark class=\"entity\" style=\"background: #fb9a99; padding: 0.45em 0.6em; margin: 0 0.25em; line-height: 1; border-radius: 0.35em;\">\n",
       "    blood test\n",
       "    <span style=\"font-size: 0.8em; font-weight: bold; line-height: 1; border-radius: 0.35em; vertical-align: middle; margin-left: 0.5rem\">PROCEDURE</span>\n",
       "</mark>\n",
       ".</div></span>"
      ],
      "text/plain": [
       "<IPython.core.display.HTML object>"
      ]
     },
     "metadata": {},
     "output_type": "display_data"
    },
    {
     "data": {
      "text/plain": [
       "<IPython.core.display.HTML object>"
      ]
     },
     "metadata": {},
     "output_type": "display_data"
    },
    {
     "data": {
      "text/html": [
       "<span class=\"tex2jax_ignore\"><h2 style=\"margin: 0\">Negation-Aware Entity Visualizer</h2>\n",
       "\n",
       "<div class=\"entities\" style=\"line-height: 2.5; direction: ltr\">\n",
       "<mark class=\"entity\" style=\"background: #fb9a99; padding: 0.45em 0.6em; margin: 0 0.25em; line-height: 1; border-radius: 0.35em;\">\n",
       "    MRI\n",
       "    <span style=\"font-size: 0.8em; font-weight: bold; line-height: 1; border-radius: 0.35em; vertical-align: middle; margin-left: 0.5rem\">PROCEDURE</span>\n",
       "</mark>\n",
       " was recommended due to persistent \n",
       "<mark class=\"entity\" style=\"background: #33a02c; padding: 0.45em 0.6em; margin: 0 0.25em; line-height: 1; border-radius: 0.35em;\">\n",
       "    headache\n",
       "    <span style=\"font-size: 0.8em; font-weight: bold; line-height: 1; border-radius: 0.35em; vertical-align: middle; margin-left: 0.5rem\">SYMPTOM</span>\n",
       "</mark>\n",
       ".</div></span>"
      ],
      "text/plain": [
       "<IPython.core.display.HTML object>"
      ]
     },
     "metadata": {},
     "output_type": "display_data"
    },
    {
     "data": {
      "text/plain": [
       "<IPython.core.display.HTML object>"
      ]
     },
     "metadata": {},
     "output_type": "display_data"
    },
    {
     "data": {
      "text/html": [
       "<span class=\"tex2jax_ignore\"><h2 style=\"margin: 0\">Negation-Aware Entity Visualizer</h2>\n",
       "\n",
       "<div class=\"entities\" style=\"line-height: 2.5; direction: ltr\">Lisinopril \n",
       "<mark class=\"entity\" style=\"background: #1f78b4; padding: 0.45em 0.6em; margin: 0 0.25em; line-height: 1; border-radius: 0.35em;\">\n",
       "    10 mg\n",
       "    <span style=\"font-size: 0.8em; font-weight: bold; line-height: 1; border-radius: 0.35em; vertical-align: middle; margin-left: 0.5rem\">DOSAGE</span>\n",
       "</mark>\n",
       " is taken daily to manage \n",
       "<mark class=\"entity\" style=\"background: #b2df8a; padding: 0.45em 0.6em; margin: 0 0.25em; line-height: 1; border-radius: 0.35em;\">\n",
       "    hypertension\n",
       "    <span style=\"font-size: 0.8em; font-weight: bold; line-height: 1; border-radius: 0.35em; vertical-align: middle; margin-left: 0.5rem\">CONDITION</span>\n",
       "</mark>\n",
       ".</div></span>"
      ],
      "text/plain": [
       "<IPython.core.display.HTML object>"
      ]
     },
     "metadata": {},
     "output_type": "display_data"
    },
    {
     "data": {
      "text/plain": [
       "<IPython.core.display.HTML object>"
      ]
     },
     "metadata": {},
     "output_type": "display_data"
    },
    {
     "data": {
      "text/html": [
       "<span class=\"tex2jax_ignore\"><h2 style=\"margin: 0\">Negation-Aware Entity Visualizer</h2>\n",
       "\n",
       "<div class=\"entities\" style=\"line-height: 2.5; direction: ltr\">No signs of \n",
       "<mark class=\"entity\" style=\"background: #ddd; padding: 0.45em 0.6em; margin: 0 0.25em; line-height: 1; border-radius: 0.35em;\">\n",
       "    headache\n",
       "    <span style=\"font-size: 0.8em; font-weight: bold; line-height: 1; border-radius: 0.35em; vertical-align: middle; margin-left: 0.5rem\">SYMPTOM (neg)</span>\n",
       "</mark>\n",
       " after taking \n",
       "<mark class=\"entity\" style=\"background: #ddd; padding: 0.45em 0.6em; margin: 0 0.25em; line-height: 1; border-radius: 0.35em;\">\n",
       "    ibuprofen\n",
       "    <span style=\"font-size: 0.8em; font-weight: bold; line-height: 1; border-radius: 0.35em; vertical-align: middle; margin-left: 0.5rem\">MEDICATION (neg)</span>\n",
       "</mark>\n",
       ".</div></span>"
      ],
      "text/plain": [
       "<IPython.core.display.HTML object>"
      ]
     },
     "metadata": {},
     "output_type": "display_data"
    },
    {
     "data": {
      "text/plain": [
       "<IPython.core.display.HTML object>"
      ]
     },
     "metadata": {},
     "output_type": "display_data"
    }
   ],
   "source": [
    "from spacy import displacy\n",
    "from IPython.display import HTML, display\n",
    "\n",
    "# Define colors per label\n",
    "LABEL_COLORS = {\n",
    "    \"MEDICATION\": \"#a6cee3\",\n",
    "    \"DOSAGE\": \"#1f78b4\",\n",
    "    \"CONDITION\": \"#b2df8a\",\n",
    "    \"SYMPTOM\": \"#33a02c\",\n",
    "    \"PROCEDURE\": \"#fb9a99\",\n",
    "    \"NEGATED\": \"#999999\"  # gray for negated entities\n",
    "}\n",
    "\n",
    "def visualize_with_negation_polished(doc):\n",
    "    ents = []\n",
    "    for ent in doc.ents:\n",
    "        label = f\"{ent.label_} (neg)\" if ent._.is_negated else ent.label_\n",
    "        color = LABEL_COLORS[\"NEGATED\"] if ent._.is_negated else LABEL_COLORS.get(ent.label_, \"#dddddd\")\n",
    "\n",
    "        ents.append({\n",
    "            \"start\": ent.start_char,\n",
    "            \"end\": ent.end_char,\n",
    "            \"label\": label,\n",
    "        })\n",
    "\n",
    "    example = {\n",
    "        \"text\": doc.text,\n",
    "        \"ents\": ents,\n",
    "        \"title\": \"Negation-Aware Entity Visualizer\"\n",
    "    }\n",
    "\n",
    "    html = displacy.render(example, style=\"ent\", manual=True, options={\"colors\": LABEL_COLORS})\n",
    "    display(HTML(html))\n",
    "\n",
    "# Re-run on all clinical texts\n",
    "print(\"🖼️ Highlighted Clinical Entities (with negation tags):\")\n",
    "for text in texts:\n",
    "    doc = nlp(text)\n",
    "    visualize_with_negation_polished(doc)\n",
    "\n"
   ]
  },
  {
   "cell_type": "code",
   "execution_count": null,
   "id": "aaa745d4-aef5-4c2d-b5ff-1caf6412388b",
   "metadata": {},
   "outputs": [],
   "source": []
  }
 ],
 "metadata": {
  "kernelspec": {
   "display_name": "Python (clinical-nlp-env)",
   "language": "python",
   "name": "clinical-nlp-env"
  },
  "language_info": {
   "codemirror_mode": {
    "name": "ipython",
    "version": 3
   },
   "file_extension": ".py",
   "mimetype": "text/x-python",
   "name": "python",
   "nbconvert_exporter": "python",
   "pygments_lexer": "ipython3",
   "version": "3.10.9"
  }
 },
 "nbformat": 4,
 "nbformat_minor": 5
}
